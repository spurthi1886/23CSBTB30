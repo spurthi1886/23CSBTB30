{
  "nbformat": 4,
  "nbformat_minor": 0,
  "metadata": {
    "colab": {
      "provenance": [],
      "authorship_tag": "ABX9TyNkXTbOEB+rPlR6JwuusTEa",
      "include_colab_link": true
    },
    "kernelspec": {
      "name": "python3",
      "display_name": "Python 3"
    },
    "language_info": {
      "name": "python"
    }
  },
  "cells": [
    {
      "cell_type": "markdown",
      "metadata": {
        "id": "view-in-github",
        "colab_type": "text"
      },
      "source": [
        "<a href=\"https://colab.research.google.com/github/spurthi1886/23CSBTB30/blob/main/arraytypes.ipynb\" target=\"_parent\"><img src=\"https://colab.research.google.com/assets/colab-badge.svg\" alt=\"Open In Colab\"/></a>"
      ]
    },
    {
      "cell_type": "code",
      "execution_count": null,
      "metadata": {
        "colab": {
          "base_uri": "https://localhost:8080/"
        },
        "id": "7PMlIaBr2bNL",
        "outputId": "6b8b10f7-9925-4033-d097-0e27cd807a26"
      },
      "outputs": [
        {
          "output_type": "stream",
          "name": "stdout",
          "text": [
            "[2 5 7 3 8]\n",
            "<class 'numpy.ndarray'>\n"
          ]
        }
      ],
      "source": [
        "import numpy as np\n",
        "arry=np.array([2,5,7,3,8])\n",
        "print(arry)\n",
        "print(type(arry))"
      ]
    },
    {
      "cell_type": "code",
      "source": [
        "array = np.array([3,7,4,9,2])\n",
        "print(\"NumPy Array:\", array)\n",
        "print(\"Type:\", type(array))\n",
        "print(\"First element:\", array[0])\n",
        "print(\"Last element:\", array[-1])\n",
        "print(\"Sum of elements:\", np.sum(array))\n",
        "print(\"Mean of elements:\", np.mean(array))"
      ],
      "metadata": {
        "colab": {
          "base_uri": "https://localhost:8080/"
        },
        "id": "E1T8-8qL4R2X",
        "outputId": "c4e413e5-93f7-4afd-954a-ef4feb1077db"
      },
      "execution_count": null,
      "outputs": [
        {
          "output_type": "stream",
          "name": "stdout",
          "text": [
            "NumPy Array: [3 7 4 9 2]\n",
            "Type: <class 'numpy.ndarray'>\n",
            "First element: 3\n",
            "Last element: 2\n",
            "Sum of elements: 25\n",
            "Mean of elements: 5.0\n"
          ]
        }
      ]
    },
    {
      "cell_type": "code",
      "source": [
        "array = np.array([3,7,4,9,2])\n",
        "print(\"Array:\", array)\n",
        "print(\"Type of array:\", type(array))\n",
        "print(\"First element:\", array[0])\n",
        "print(\"Last element:\", array[-1])"
      ],
      "metadata": {
        "colab": {
          "base_uri": "https://localhost:8080/"
        },
        "id": "ZhbAmxvX_isn",
        "outputId": "0b47ae50-3374-468b-a664-0425f65dc999"
      },
      "execution_count": null,
      "outputs": [
        {
          "output_type": "stream",
          "name": "stdout",
          "text": [
            "Array: [3 7 4 9 2]\n",
            "Type of array: <class 'numpy.ndarray'>\n",
            "First element: 3\n",
            "Last element: 2\n"
          ]
        }
      ]
    },
    {
      "cell_type": "code",
      "source": [
        "array_1d = np.array([3,7,4,9,2])\n",
        "print(\"1D Array:\", array_1d)\n",
        "print(\"Type of 1D Array:\", type(array_1d))\n",
        "print(\"Sum of elements:\", np.sum(array_1d))\n",
        "print(\"Mean of elements:\", np.mean(array_1d))\n"
      ],
      "metadata": {
        "colab": {
          "base_uri": "https://localhost:8080/"
        },
        "id": "9OhvOjQA_ryi",
        "outputId": "9739e199-7429-4b7c-f065-2f72537cf417"
      },
      "execution_count": null,
      "outputs": [
        {
          "output_type": "stream",
          "name": "stdout",
          "text": [
            "1D Array: [3 7 4 9 2]\n",
            "Type of 1D Array: <class 'numpy.ndarray'>\n",
            "Sum of elements: 25\n",
            "Mean of elements: 5.0\n"
          ]
        }
      ]
    },
    {
      "cell_type": "code",
      "source": [
        "array_2d = np.array([[3,2,1], [6,5,4], [9,8,7]])\n",
        "print(\"2D Array:\\n\", array_2d)\n",
        "print(\"Type of 2D Array:\", type(array_2d))\n",
        "print(\"Sum of elements in 2D array:\", np.sum(array_2d))\n",
        "print(\"Transpose of 2D array:\\n\", np.transpose(array_2d))"
      ],
      "metadata": {
        "colab": {
          "base_uri": "https://localhost:8080/"
        },
        "id": "uoCVDva7_30H",
        "outputId": "07ca44d3-1b0d-4242-f528-295288009421"
      },
      "execution_count": null,
      "outputs": [
        {
          "output_type": "stream",
          "name": "stdout",
          "text": [
            "2D Array:\n",
            " [[3 2 1]\n",
            " [6 5 4]\n",
            " [9 8 7]]\n",
            "Type of 2D Array: <class 'numpy.ndarray'>\n",
            "Sum of elements in 2D array: 45\n",
            "Transpose of 2D array:\n",
            " [[3 6 9]\n",
            " [2 5 8]\n",
            " [1 4 7]]\n"
          ]
        }
      ]
    },
    {
      "cell_type": "code",
      "source": [
        "array_3d = np.array([[[3,2,1], [6,5,4]],[[9,8,7], [12,11,10]]])\n",
        "print(\"3D Array:\\n\", array_3d)\n",
        "print(\"Type of 3D Array:\", type(array_3d))\n",
        "print(\"Sum of elements in 3D array:\", np.sum(array_3d))\n",
        "print(\"Shape of 3D array:\", array_3d.shape)"
      ],
      "metadata": {
        "colab": {
          "base_uri": "https://localhost:8080/"
        },
        "id": "opx1YxmHAETC",
        "outputId": "daef85b4-6675-49cd-bdca-a1a3ec7ccee2"
      },
      "execution_count": null,
      "outputs": [
        {
          "output_type": "stream",
          "name": "stdout",
          "text": [
            "3D Array:\n",
            " [[[ 3  2  1]\n",
            "  [ 6  5  4]]\n",
            "\n",
            " [[ 9  8  7]\n",
            "  [12 11 10]]]\n",
            "Type of 3D Array: <class 'numpy.ndarray'>\n",
            "Sum of elements in 3D array: 78\n",
            "Shape of 3D array: (2, 2, 3)\n"
          ]
        }
      ]
    },
    {
      "cell_type": "code",
      "source": [
        "array_4d = np.array([[[[2,1], [4,3]], [[6,5], [8,7]]],\n",
        "                     [[[9, 10], [11, 12]], [[13, 14], [15, 16]]]])\n",
        "print(\"4D Array:\\n\", array_4d)\n",
        "print(\"Type of 4D Array:\", type(array_4d))\n",
        "print(\"Sum of elements in 4D array:\", np.sum(array_4d))\n",
        "print(\"Shape of 4D array:\", array_4d.shape)"
      ],
      "metadata": {
        "colab": {
          "base_uri": "https://localhost:8080/"
        },
        "id": "sIg_qtl0ARxk",
        "outputId": "bed770ae-fe02-4d7b-f9b6-4e6d433e63d8"
      },
      "execution_count": null,
      "outputs": [
        {
          "output_type": "stream",
          "name": "stdout",
          "text": [
            "4D Array:\n",
            " [[[[ 2  1]\n",
            "   [ 4  3]]\n",
            "\n",
            "  [[ 6  5]\n",
            "   [ 8  7]]]\n",
            "\n",
            "\n",
            " [[[ 9 10]\n",
            "   [11 12]]\n",
            "\n",
            "  [[13 14]\n",
            "   [15 16]]]]\n",
            "Type of 4D Array: <class 'numpy.ndarray'>\n",
            "Sum of elements in 4D array: 136\n",
            "Shape of 4D array: (2, 2, 2, 2)\n"
          ]
        }
      ]
    },
    {
      "cell_type": "code",
      "source": [
        "array_a = np.array([3,2,1])\n",
        "array_b = np.array([6,5,4])\n",
        "array_add = array_a + array_b\n",
        "print(\"\\nAddition of Two Arrays:\", array_add)\n",
        "array_mul = array_a * array_b\n",
        "print(\"Multiplication of Two Arrays:\", array_mul)\n",
        "array_div = array_b / array_a\n",
        "print(\"Division of Two Arrays:\", array_div)\n",
        "array_pow = np.power(array_a, 2)\n",
        "print(\"Element-wise Power (array_a^2):\", array_pow)"
      ],
      "metadata": {
        "colab": {
          "base_uri": "https://localhost:8080/"
        },
        "id": "yt6jUMfoAuVz",
        "outputId": "3473b884-3c40-4e77-9666-652eaf4d0c94"
      },
      "execution_count": null,
      "outputs": [
        {
          "output_type": "stream",
          "name": "stdout",
          "text": [
            "\n",
            "Addition of Two Arrays: [9 7 5]\n",
            "Multiplication of Two Arrays: [18 10  4]\n",
            "Division of Two Arrays: [2.  2.5 4. ]\n",
            "Element-wise Power (array_a^2): [9 4 1]\n"
          ]
        }
      ]
    },
    {
      "cell_type": "code",
      "source": [
        "sin_values = np.sin(array_a)\n",
        "print(\"\\nSin of array_a:\", sin_values)\n",
        "log_values = np.log(array_b)\n",
        "print(\"Log of array_b:\", log_values)\n",
        "log2_values = np.log2(array_b)\n",
        "print(\"Log base-2 of array_b:\", log2_values)\n",
        "exp_values = np.exp(array_a)\n",
        "print(\"Exponential of array_a:\", exp_values)\n"
      ],
      "metadata": {
        "colab": {
          "base_uri": "https://localhost:8080/"
        },
        "id": "_HaWHztVAzlX",
        "outputId": "d2dbe179-1736-4b10-b9ee-4c8fe92d2be9"
      },
      "execution_count": null,
      "outputs": [
        {
          "output_type": "stream",
          "name": "stdout",
          "text": [
            "\n",
            "Sin of array_a: [0.14112001 0.90929743 0.84147098]\n",
            "Log of array_b: [1.79175947 1.60943791 1.38629436]\n",
            "Log base-2 of array_b: [2.5849625  2.32192809 2.        ]\n",
            "Exponential of array_a: [20.08553692  7.3890561   2.71828183]\n"
          ]
        }
      ]
    }
  ]
}