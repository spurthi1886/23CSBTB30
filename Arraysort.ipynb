{
  "nbformat": 4,
  "nbformat_minor": 0,
  "metadata": {
    "colab": {
      "provenance": [],
      "authorship_tag": "ABX9TyPx1t+YEiPpBdBOW3PAqisi",
      "include_colab_link": true
    },
    "kernelspec": {
      "name": "python3",
      "display_name": "Python 3"
    },
    "language_info": {
      "name": "python"
    }
  },
  "cells": [
    {
      "cell_type": "markdown",
      "metadata": {
        "id": "view-in-github",
        "colab_type": "text"
      },
      "source": [
        "<a href=\"https://colab.research.google.com/github/spurthi1886/23CSBTB30/blob/main/Arraysort.ipynb\" target=\"_parent\"><img src=\"https://colab.research.google.com/assets/colab-badge.svg\" alt=\"Open In Colab\"/></a>"
      ]
    },
    {
      "cell_type": "code",
      "execution_count": 1,
      "metadata": {
        "colab": {
          "base_uri": "https://localhost:8080/"
        },
        "id": "7PRLN4D8A5Rw",
        "outputId": "7f6d7bcd-0fb6-4847-82a6-5f41df2a6917"
      },
      "outputs": [
        {
          "output_type": "stream",
          "name": "stdout",
          "text": [
            "[0 1 2 3]\n"
          ]
        }
      ],
      "source": [
        "import numpy as np\n",
        "arr=np.array([3,2,0,1])\n",
        "print(np.sort(arr))"
      ]
    },
    {
      "cell_type": "code",
      "source": [
        "import pandas as pd\n",
        "sr = pd.Series([150,50,30,20,40,100])\n",
        "drink = ['Coca Cola','Sprite','Coke','Fanta','Dew','ThumbsUp']\n",
        "sr.index = drink\n",
        "print(sr)"
      ],
      "metadata": {
        "colab": {
          "base_uri": "https://localhost:8080/"
        },
        "id": "iRaPda3WBF-S",
        "outputId": "b39f497b-c60d-400e-e355-82794109f482"
      },
      "execution_count": 2,
      "outputs": [
        {
          "output_type": "stream",
          "name": "stdout",
          "text": [
            "Coca Cola    150\n",
            "Sprite        50\n",
            "Coke          30\n",
            "Fanta         20\n",
            "Dew           40\n",
            "ThumbsUp     100\n",
            "dtype: int64\n"
          ]
        }
      ]
    }
  ]
}